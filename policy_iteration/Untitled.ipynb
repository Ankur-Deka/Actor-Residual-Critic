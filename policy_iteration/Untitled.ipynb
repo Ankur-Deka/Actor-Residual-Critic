{
 "cells": [
  {
   "cell_type": "code",
   "execution_count": 80,
   "metadata": {},
   "outputs": [
    {
     "name": "stdout",
     "output_type": "stream",
     "text": [
      "1\n"
     ]
    }
   ],
   "source": [
    "import gym\n",
    "import lake_envs\n",
    "\n",
    "env = gym.make('Deterministic-8x8-FrozenLake-v0')\n",
    "print(lake_envs.DOWN)"
   ]
  },
  {
   "cell_type": "code",
   "execution_count": 16,
   "metadata": {},
   "outputs": [
    {
     "name": "stdout",
     "output_type": "stream",
     "text": [
      "16 4\n",
      "0 {0: [(1.0, 0, 0.0, False)], 1: [(1.0, 4, 0.0, False)], 2: [(1.0, 1, 0.0, True)], 3: [(1.0, 0, 0.0, False)]}\n",
      "1 {0: [(1.0, 1, 0, True)], 1: [(1.0, 1, 0, True)], 2: [(1.0, 1, 0, True)], 3: [(1.0, 1, 0, True)]}\n",
      "2 {0: [(1.0, 1, 0.0, True)], 1: [(1.0, 6, 0.0, True)], 2: [(1.0, 3, 0.0, False)], 3: [(1.0, 2, 0.0, False)]}\n",
      "3 {0: [(1.0, 2, 0.0, False)], 1: [(1.0, 7, 0.0, False)], 2: [(1.0, 3, 0.0, False)], 3: [(1.0, 3, 0.0, False)]}\n",
      "4 {0: [(1.0, 4, 0.0, False)], 1: [(1.0, 8, 0.0, False)], 2: [(1.0, 5, 1.0, True)], 3: [(1.0, 0, 0.0, False)]}\n",
      "5 {0: [(1.0, 5, 0, True)], 1: [(1.0, 5, 0, True)], 2: [(1.0, 5, 0, True)], 3: [(1.0, 5, 0, True)]}\n",
      "6 {0: [(1.0, 6, 0, True)], 1: [(1.0, 6, 0, True)], 2: [(1.0, 6, 0, True)], 3: [(1.0, 6, 0, True)]}\n",
      "7 {0: [(1.0, 6, 0.0, True)], 1: [(1.0, 11, 0.0, False)], 2: [(1.0, 7, 0.0, False)], 3: [(1.0, 3, 0.0, False)]}\n",
      "8 {0: [(1.0, 8, 0.0, False)], 1: [(1.0, 12, 0.0, False)], 2: [(1.0, 9, 0.0, True)], 3: [(1.0, 4, 0.0, False)]}\n",
      "9 {0: [(1.0, 9, 0, True)], 1: [(1.0, 9, 0, True)], 2: [(1.0, 9, 0, True)], 3: [(1.0, 9, 0, True)]}\n",
      "10 {0: [(1.0, 10, 0, True)], 1: [(1.0, 10, 0, True)], 2: [(1.0, 10, 0, True)], 3: [(1.0, 10, 0, True)]}\n",
      "11 {0: [(1.0, 10, 0.0, True)], 1: [(1.0, 15, 0.0, False)], 2: [(1.0, 11, 0.0, False)], 3: [(1.0, 7, 0.0, False)]}\n",
      "12 {0: [(1.0, 12, 0.0, False)], 1: [(1.0, 12, 0.0, False)], 2: [(1.0, 13, 0.0, False)], 3: [(1.0, 8, 0.0, False)]}\n",
      "13 {0: [(1.0, 12, 0.0, False)], 1: [(1.0, 13, 0.0, False)], 2: [(1.0, 14, 0.0, False)], 3: [(1.0, 9, 0.0, True)]}\n",
      "14 {0: [(1.0, 13, 0.0, False)], 1: [(1.0, 14, 0.0, False)], 2: [(1.0, 15, 0.0, False)], 3: [(1.0, 10, 0.0, True)]}\n",
      "15 {0: [(1.0, 14, 0.0, False)], 1: [(1.0, 15, 0.0, False)], 2: [(1.0, 15, 0.0, False)], 3: [(1.0, 11, 0.0, False)]}\n"
     ]
    }
   ],
   "source": [
    "print(env.nS, env.nA)\n",
    "for k,v in env.P.items():\n",
    "    print(k,v)"
   ]
  },
  {
   "cell_type": "code",
   "execution_count": 84,
   "metadata": {},
   "outputs": [
    {
     "name": "stdout",
     "output_type": "stream",
     "text": [
      "[2, 3, 1, 4, 0]\n",
      "[4 2 0 1 3]\n"
     ]
    }
   ],
   "source": [
    "l = [0,1,2,3,4]\n",
    "np.random.shuffle(l)\n",
    "print(l)\n",
    "# np.arange(5)[l]\n",
    "print(np.argsort(l))"
   ]
  },
  {
   "cell_type": "code",
   "execution_count": 83,
   "metadata": {},
   "outputs": [
    {
     "name": "stdout",
     "output_type": "stream",
     "text": [
      "[7 1]\n"
     ]
    },
    {
     "data": {
      "text/plain": [
       "array([57, 49, 58, 56, 48, 59, 41, 50, 40, 33, 51, 42, 60, 34, 52, 43, 61,\n",
       "       32, 25, 53, 44, 17, 26, 35, 62, 24, 54, 36, 45, 27,  9, 18, 16, 63,\n",
       "       28, 55,  8, 19, 37, 10,  1, 46, 47,  0, 38, 29,  2, 20, 11, 30,  3,\n",
       "       21, 39, 12,  4, 13, 22, 31,  5, 23, 14,  6, 15,  7])"
      ]
     },
     "execution_count": 83,
     "metadata": {},
     "output_type": "execute_result"
    }
   ],
   "source": [
    "goal_map = env.desc==b'G'\n",
    "goal_loc = np.argwhere(goal_map)[0]\n",
    "print(goal_loc)\n",
    "X, Y = np.meshgrid(np.arange(env.nrow), np.arange(env.ncol))\n",
    "dists = np.abs(Y-goal_loc[0]) + np.abs(X-goal_loc[1])\n",
    "np.argsort(dists.flatten())\n",
    "# print(dists)\n",
    "# print(vars(env))"
   ]
  }
 ],
 "metadata": {
  "kernelspec": {
   "display_name": "rlcmu",
   "language": "python",
   "name": "rlcmu"
  },
  "language_info": {
   "codemirror_mode": {
    "name": "ipython",
    "version": 3
   },
   "file_extension": ".py",
   "mimetype": "text/x-python",
   "name": "python",
   "nbconvert_exporter": "python",
   "pygments_lexer": "ipython3",
   "version": "3.6.12"
  }
 },
 "nbformat": 4,
 "nbformat_minor": 4
}
